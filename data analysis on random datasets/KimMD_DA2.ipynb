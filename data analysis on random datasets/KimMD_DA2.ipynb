{
 "cells": [
  {
   "cell_type": "markdown",
   "id": "64442854",
   "metadata": {},
   "source": [
    "# Midterm 1\n"
   ]
  },
  {
   "cell_type": "markdown",
   "id": "3719a15f",
   "metadata": {},
   "source": [
    "### One-sample t-test"
   ]
  },
  {
   "cell_type": "code",
   "execution_count": 3,
   "id": "44ca9791",
   "metadata": {},
   "outputs": [
    {
     "name": "stdout",
     "output_type": "stream",
     "text": [
      "Alternative hypothesis (H1): The mean height for females is not equal to 170 cm\n",
      "Alpha value (α): 0.05\n",
      "Calculated t-statistic: 0.23116989041673844\n",
      "Fail to reject null hypothesis. There is no significant difference in the mean height for females from 170 cm.\n"
     ]
    }
   ],
   "source": [
    "import pandas as pd\n",
    "from scipy import stats\n",
    "\n",
    "\n",
    "female_df = pd.read_csv('female_data.csv')\n",
    "null_hypothesis = \"The mean height for females is 170 cm\"\n",
    "alternative_hypothesis = \"The mean height for females is not equal to 170 cm\"\n",
    "print(\"Alternative hypothesis (H1):\", alternative_hypothesis)\n",
    "\n",
    "\n",
    "alpha = 0.05\n",
    "print(\"Alpha value (α):\", alpha)\n",
    "\n",
    "female_heights = female_df['Height']\n",
    "\n",
    "t_statistic, p_value = stats.ttest_1samp(female_heights, 170)\n",
    "print(\"Calculated t-statistic:\", t_statistic)\n",
    "\n",
    "if p_value < alpha:\n",
    "    print(\"Reject null hypothesis. The mean height for females is significantly different from 170 cm.\")\n",
    "else:\n",
    "    print(\"Fail to reject null hypothesis. There is no significant difference in the mean height for females from 170 cm.\")\n"
   ]
  },
  {
   "cell_type": "markdown",
   "id": "758b363a",
   "metadata": {},
   "source": [
    "### Two-sample t-test"
   ]
  },
  {
   "cell_type": "code",
   "execution_count": 7,
   "id": "84ce087c",
   "metadata": {},
   "outputs": [
    {
     "name": "stdout",
     "output_type": "stream",
     "text": [
      "Null hypothesis (H0): The mean heights of alien and females are equal\n",
      "Alternative hypothesis (H1): The mean heights of alien and females are not equal\n",
      "Alpha value (α): 0.05\n",
      "Calculated t-statistic: 25.371734629334448\n",
      "Reject null hypothesis. The mean heights of aliens and females are significantly different.\n"
     ]
    }
   ],
   "source": [
    "import pandas as pd\n",
    "from scipy import stats\n",
    "\n",
    "\n",
    "female_df = pd.read_csv('female_data.csv')\n",
    "alien_df = pd.read_csv('alien_data.csv')\n",
    "\n",
    "null_hypothesis = \"The mean heights of alien and females are equal\"\n",
    "alternative_hypothesis = \"The mean heights of alien and females are not equal\"\n",
    "print(\"Null hypothesis (H0):\", null_hypothesis)\n",
    "print(\"Alternative hypothesis (H1):\", alternative_hypothesis)\n",
    "\n",
    "\n",
    "alpha = 0.05\n",
    "print(\"Alpha value (α):\", alpha)\n",
    "\n",
    "alien_heights = alien_df['Height']\n",
    "female_heights = female_df['Height']\n",
    "\n",
    "t_statistic, p_value = stats.ttest_ind(alien_heights, female_heights)\n",
    "print(\"Calculated t-statistic:\", t_statistic)\n",
    "if p_value < alpha:\n",
    "    print(\"Reject null hypothesis. The mean heights of aliens and females are significantly different.\")\n",
    "else:\n",
    "    print(\"Fail to reject null hypothesis. There is no significant difference in the mean heights of alien and females.\")\n"
   ]
  },
  {
   "cell_type": "markdown",
   "id": "01ce1cf6",
   "metadata": {},
   "source": [
    "## Here is another dataset for Aliens"
   ]
  },
  {
   "cell_type": "markdown",
   "id": "cae3f13b",
   "metadata": {},
   "source": [
    "### Use datasets provided to formulate hypothesis and perform a one-way ANOVA and Post-Hoc Analysis. Explain results for ANOVA and Post-Hoc "
   ]
  },
  {
   "cell_type": "code",
   "execution_count": 20,
   "id": "e6a052c3",
   "metadata": {},
   "outputs": [
    {
     "name": "stdout",
     "output_type": "stream",
     "text": [
      "F-statistic: 643.7249181013685\n",
      "P-value: 4.6344392552123774e-92\n",
      "Reject null hypothesis. There is a significant difference in mean heights among the groups.\n"
     ]
    }
   ],
   "source": [
    "import pandas as pd\n",
    "from scipy.stats import f_oneway\n",
    "\n",
    "alien_df = pd.read_csv('alien_data.csv')\n",
    "female_df = pd.read_csv('female_data.csv')\n",
    "\n",
    "alien_heights = alien_df['Height']\n",
    "female_heights = female_df['Height']\n",
    "\n",
    "f_statistic, p_value = f_oneway(alien_heights, female_heights)\n",
    "\n",
    "\n",
    "alpha = 0.05\n",
    "\n",
    "print(\"F-statistic:\", f_statistic)\n",
    "print(\"P-value:\", p_value)\n",
    "\n",
    "if p_value < alpha:\n",
    "    print(\"Reject null hypothesis. There is a significant difference in mean heights among the groups.\")\n",
    "else:\n",
    "    print(\"Fail to reject null hypothesis. There is no significant difference in mean heights among the groups.\")\n"
   ]
  },
  {
   "cell_type": "code",
   "execution_count": 25,
   "id": "d4df2502",
   "metadata": {},
   "outputs": [
    {
     "name": "stdout",
     "output_type": "stream",
     "text": [
      "T-statistic shows that H0 is rejected. Means of 'Height' are significantly different.\n"
     ]
    }
   ],
   "source": [
    "import pandas as pd\n",
    "from scipy import stats\n",
    "\n",
    "# Load datasets from CSV files\n",
    "alien_df = pd.read_csv('alien_data.csv')\n",
    "female_df = pd.read_csv('female_data.csv')\n",
    "\n",
    "# Assuming you want to compare the means of the 'Height' column\n",
    "# from 'alien_df' and 'female_df'\n",
    "alien_height = alien_df['Height']\n",
    "female_height = female_df['Height']\n",
    "\n",
    "# Perform Student's t-test for independent samples\n",
    "t_statistic, p_value = stats.ttest_ind(alien_height, female_height)\n",
    "\n",
    "# Define the significance level (alpha)\n",
    "alpha = 0.05\n",
    "\n",
    "# Check if H0 is rejected or not based on the p-value and significance level\n",
    "if p_value > alpha:\n",
    "    print(\"T-statistic shows that H0 is not rejected. Means of 'Height' are not significantly different.\")\n",
    "else:\n",
    "    print(\"T-statistic shows that H0 is rejected. Means of 'Height' are significantly different.\")\n"
   ]
  },
  {
   "cell_type": "code",
   "execution_count": 26,
   "id": "3abb56c1",
   "metadata": {},
   "outputs": [
    {
     "name": "stdout",
     "output_type": "stream",
     "text": [
      "ANOVA Table:\n",
      "                 sum_sq     df           F        PR(>F)\n",
      "Gender    199203.399604    1.0  643.724918  4.634439e-92\n",
      "Residual  155655.478269  503.0         NaN           NaN\n",
      "\n",
      "Tukey's HSD Results:\n",
      "Multiple Comparison of Means - Tukey HSD, FWER=0.05 \n",
      "====================================================\n",
      "group1 group2 meandiff p-adj  lower    upper  reject\n",
      "----------------------------------------------------\n",
      " Alien Female -39.7241   0.0 -42.8002 -36.648   True\n",
      "----------------------------------------------------\n"
     ]
    }
   ],
   "source": [
    "import pandas as pd\n",
    "import statsmodels.api as sm\n",
    "from statsmodels.formula.api import ols\n",
    "\n",
    "# Load datasets\n",
    "alien_df = pd.read_csv('alien_data.csv')\n",
    "female_df = pd.read_csv('female_data.csv')\n",
    "\n",
    "# Combine datasets\n",
    "combined_df = pd.concat([alien_df, female_df])\n",
    "\n",
    "# Fit ANOVA model\n",
    "model = ols('Height ~ Gender', data=combined_df).fit()\n",
    "anova_table = sm.stats.anova_lm(model, typ=2)\n",
    "\n",
    "# Perform Tukey's HSD test\n",
    "tukey_results = sm.stats.multicomp.pairwise_tukeyhsd(combined_df['Height'], combined_df['Gender'])\n",
    "\n",
    "print(\"ANOVA Table:\")\n",
    "print(anova_table)\n",
    "\n",
    "print(\"\\nTukey's HSD Results:\")\n",
    "print(tukey_results)\n",
    "\n"
   ]
  },
  {
   "cell_type": "markdown",
   "id": "db3af126",
   "metadata": {},
   "source": [
    "### Use datasets provided to formulate hypothesis and perform a two-way ANOVA. "
   ]
  },
  {
   "cell_type": "code",
   "execution_count": 27,
   "id": "2229f902-fa9c-42df-942e-fbab0da9e188",
   "metadata": {},
   "outputs": [
    {
     "name": "stdout",
     "output_type": "stream",
     "text": [
      "                          sum_sq     df           F         PR(>F)\n",
      "C(Gender)           10337.640138    1.0  328.222829   1.334321e-56\n",
      "C(Index)            58929.234942    5.0  374.203782  3.144310e-165\n",
      "C(Gender):C(Index)   1844.301634    5.0   11.711414   1.030505e-10\n",
      "Residual            15527.428762  493.0         NaN            NaN\n"
     ]
    }
   ],
   "source": [
    "import pandas as pd\n",
    "import statsmodels.api as sm\n",
    "from statsmodels.formula.api import ols\n",
    "\n",
    "# Load datasets from CSV files\n",
    "alien_df = pd.read_csv('alien_data.csv')\n",
    "female_df = pd.read_csv('female_data.csv')\n",
    "\n",
    "# Concatenate datasets\n",
    "combined_df = pd.concat([alien_df, female_df])\n",
    "\n",
    "# Perform two-way ANOVA\n",
    "model = ols('BMI ~ C(Gender) + C(Index) + C(Gender):C(Index)', data=combined_df).fit()\n",
    "anova_table = sm.stats.anova_lm(model, typ=2)\n",
    "\n",
    "# Print ANOVA table\n",
    "print(anova_table)\n"
   ]
  },
  {
   "cell_type": "markdown",
   "id": "66eddbdf",
   "metadata": {},
   "source": [
    "### Find Karl Pearson’s coefficeint of Correlation. Select required data yourself. Anything you want. Shortly explain your result\n"
   ]
  },
  {
   "cell_type": "code",
   "execution_count": 30,
   "id": "0cf44fd2",
   "metadata": {},
   "outputs": [
    {
     "name": "stdout",
     "output_type": "stream",
     "text": [
      "Karl Pearson's coefficient of correlation for alien dataset: -0.01718642769745092\n",
      "Karl Pearson's coefficient of correlation for female dataset: 0.027568624092019874\n"
     ]
    }
   ],
   "source": [
    "import pandas as pd\n",
    "\n",
    "# Load datasets from CSV files\n",
    "alien_df = pd.read_csv('alien_data.csv')\n",
    "female_df = pd.read_csv('female_data.csv')\n",
    "\n",
    "# Calculate Karl Pearson's coefficient of correlation for male dataset\n",
    "alien_corr = alien_df[['Height', 'Weight']].corr().iloc[0, 1]\n",
    "\n",
    "# Calculate Karl Pearson's coefficient of correlation for female dataset\n",
    "female_corr = female_df[['Height', 'Weight']].corr().iloc[0, 1]\n",
    "\n",
    "print(\"Karl Pearson's coefficient of correlation for alien dataset:\", alien_corr)\n",
    "print(\"Karl Pearson's coefficient of correlation for female dataset:\", female_corr)\n"
   ]
  },
  {
   "cell_type": "markdown",
   "id": "35207855",
   "metadata": {},
   "source": [
    "# Perform linear regression analysis for the MALE dataset, calculating the regression equation (Y = aX + b) to predict weight from height. Explain results shortly\n",
    "\n"
   ]
  },
  {
   "cell_type": "code",
   "execution_count": 37,
   "id": "212b78f1",
   "metadata": {},
   "outputs": [
    {
     "name": "stdout",
     "output_type": "stream",
     "text": [
      "Regression equation: Weight = 0.06 * Height + 95.85\n"
     ]
    }
   ],
   "source": [
    "import pandas as pd\n",
    "from sklearn.linear_model import LinearRegression\n",
    "\n",
    "# Load female dataset\n",
    "female_df = pd.read_csv('female_data.csv')\n",
    "\n",
    "X = female_df[['Height']]  \n",
    "y = female_df['Weight']    \n",
    "\n",
    "model = LinearRegression()\n",
    "model.fit(X, y)\n",
    "\n",
    "a = model.coef_[0]\n",
    "b = model.intercept_\n",
    "\n",
    "# Print the regression equation\n",
    "print(f\"Regression equation: Weight = {a:.2f} * Height + {b:.2f}\")\n",
    "# The regression equation derived from the linear regression analysis is: Weight = a * Height + b.\n",
    "# The coefficient a represents the slope of the regression line, indicating the change in weight for a one-unit change in height.\n",
    "# The intercept b represents the value of weight when height is zero.\n",
    "# By using this equation, you can predict the weight of females based on their height.\n",
    "# For instance, if the slope a is positive, it indicates that as height increases, weight also tends to increase. If it's negative, it indicates the opposite.\n",
    "# The intercept b provides a baseline weight value that is independent of height.\n"
   ]
  },
  {
   "cell_type": "code",
   "execution_count": null,
   "id": "98f55253-3625-46a1-83b5-8bbed3de481d",
   "metadata": {},
   "outputs": [],
   "source": []
  }
 ],
 "metadata": {
  "kernelspec": {
   "display_name": "Python 3 (ipykernel)",
   "language": "python",
   "name": "python3"
  },
  "language_info": {
   "codemirror_mode": {
    "name": "ipython",
    "version": 3
   },
   "file_extension": ".py",
   "mimetype": "text/x-python",
   "name": "python",
   "nbconvert_exporter": "python",
   "pygments_lexer": "ipython3",
   "version": "3.11.7"
  }
 },
 "nbformat": 4,
 "nbformat_minor": 5
}
